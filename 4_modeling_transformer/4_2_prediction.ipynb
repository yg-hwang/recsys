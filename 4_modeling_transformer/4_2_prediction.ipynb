{
 "cells": [
  {
   "metadata": {},
   "cell_type": "code",
   "outputs": [],
   "execution_count": null,
   "source": [
    "import os\n",
    "from pathlib import Path\n",
    "\n",
    "from utils.model import Model"
   ],
   "id": "12537145e4fc4aa7"
  },
  {
   "metadata": {},
   "cell_type": "markdown",
   "source": "# Load Model",
   "id": "5be332b472d57c1d"
  },
  {
   "metadata": {},
   "cell_type": "code",
   "outputs": [],
   "execution_count": null,
   "source": [
    "DOMAIN = \"fashion\"\n",
    "\n",
    "current_dir = os.path.abspath(os.curdir)\n",
    "base_dir = \"/\".join(current_dir.split(\"/\")[:-1])\n",
    "model_dir = Path(base_dir).joinpath(f\"data/model/{DOMAIN}/transformer\")\n",
    "model_dir.mkdir(parents=True, exist_ok=True)"
   ],
   "id": "fe5005a245cce830"
  },
  {
   "metadata": {},
   "cell_type": "code",
   "outputs": [],
   "execution_count": null,
   "source": "model = Model(model_dir=model_dir)",
   "id": "e7832b33f9f60ffb"
  },
  {
   "metadata": {},
   "cell_type": "markdown",
   "source": "# Prediction Test",
   "id": "47f799c27e2c07bc"
  },
  {
   "metadata": {},
   "cell_type": "code",
   "outputs": [],
   "execution_count": null,
   "source": [
    "body = [\n",
    "    {\n",
    "        \"user_id\": 123,\n",
    "        \"inputs\": [\n",
    "            {\n",
    "                \"color\": \"화이트\",\n",
    "                \"style\": \"캐주얼\",\n",
    "                \"fit\": \"레귤러핏\",\n",
    "                \"material\": \"코튼\",\n",
    "                \"season\": \"가을\",\n",
    "                \"sleeve\": \"롱\",\n",
    "                \"category\": \"블라우스\",\n",
    "            },\n",
    "            {\n",
    "                \"color\": \"그레이\",\n",
    "                \"style\": \"포멀\",\n",
    "                \"fit\": \"오버핏\",\n",
    "                \"material\": \"퍼\",\n",
    "                \"season\": \"가을\",\n",
    "                \"sleeve\": \"롱\",\n",
    "                \"category\": \"점퍼\",\n",
    "            },\n",
    "        ],\n",
    "    }\n",
    "]\n",
    "\n",
    "model.predict(body)"
   ],
   "id": "db7ae31b9e7aca5e"
  },
  {
   "metadata": {},
   "cell_type": "markdown",
   "source": "# Serving Test",
   "id": "9772532aa176c7d3"
  },
  {
   "metadata": {},
   "cell_type": "code",
   "outputs": [],
   "execution_count": null,
   "source": [
    "[\n",
    "    {\n",
    "        \"user_id\": 123,\n",
    "        \"inputs\": [\n",
    "            {\n",
    "                \"color\": \"화이트\",\n",
    "                \"style\": \"캐주얼\",\n",
    "                \"fit\": \"레귤러핏\",\n",
    "                \"material\": \"코튼\",\n",
    "                \"season\": \"가을\",\n",
    "                \"sleeve\": \"롱\",\n",
    "                \"category\": \"블라우스\",\n",
    "            },\n",
    "            {\n",
    "                \"color\": \"그레이\",\n",
    "                \"style\": \"포멀\",\n",
    "                \"fit\": \"오버핏\",\n",
    "                \"material\": \"퍼\",\n",
    "                \"season\": \"가을\",\n",
    "                \"sleeve\": \"롱\",\n",
    "                \"category\": \"점퍼\",\n",
    "            },\n",
    "        ],\n",
    "    }\n",
    "]"
   ],
   "id": "f6bfbc60de29b23d"
  }
 ],
 "metadata": {
  "kernelspec": {
   "display_name": "Python 3 (ipykernel)",
   "language": "python",
   "name": "python3"
  },
  "language_info": {
   "codemirror_mode": {
    "name": "ipython",
    "version": 3
   },
   "file_extension": ".py",
   "mimetype": "text/x-python",
   "name": "python",
   "nbconvert_exporter": "python",
   "pygments_lexer": "ipython3",
   "version": "3.12.7"
  }
 },
 "nbformat": 4,
 "nbformat_minor": 5
}
