{
 "cells": [
  {
   "metadata": {
    "ExecuteTime": {
     "end_time": "2025-09-26T23:11:52.856475Z",
     "start_time": "2025-09-26T23:11:52.845658Z"
    }
   },
   "cell_type": "code",
   "source": [
    "import os\n",
    "import sys\n",
    "import pandas as pd\n",
    "from pathlib import Path\n",
    "from datetime import datetime\n",
    "\n",
    "sys.path.append(os.path.abspath(\"..\"))\n",
    "\n",
    "from utils.dataset.config import DatasetPath\n",
    "from utils.dataset.clickstream_generator import generate_clickstream"
   ],
   "id": "ea193a13cc51da11",
   "outputs": [],
   "execution_count": 1
  },
  {
   "metadata": {},
   "cell_type": "markdown",
   "source": [
    "# Dataset Path\n",
    "- `recsys/data/dataset/` 하위 경로 생성"
   ],
   "id": "c2c84c6f9c0f95f6"
  },
  {
   "metadata": {
    "ExecuteTime": {
     "end_time": "2025-09-26T23:11:55.257748Z",
     "start_time": "2025-09-26T23:11:55.252669Z"
    }
   },
   "cell_type": "code",
   "source": [
    "current_dir = os.path.abspath(os.curdir)\n",
    "base_dir = \"/\".join(current_dir.split(\"/\")[:-1])\n",
    "dataset_dir = Path(base_dir).joinpath(\"data/dataset\")\n",
    "\n",
    "paths = DatasetPath(base_dir=dataset_dir, dataset_name=\"fashion\")"
   ],
   "id": "17b467dbb545dbca",
   "outputs": [],
   "execution_count": 2
  },
  {
   "metadata": {},
   "cell_type": "markdown",
   "source": [
    "# Clickstream Dataset\n",
    "- 가상의 클릭 스트림 데이터 생성"
   ],
   "id": "8d77843187ed4cd1"
  },
  {
   "cell_type": "code",
   "id": "ebaac10182282617",
   "metadata": {
    "ExecuteTime": {
     "end_time": "2025-09-26T23:12:45.431039Z",
     "start_time": "2025-09-26T23:11:58.241235Z"
    }
   },
   "source": [
    "generate_clickstream(\n",
    "    user_metadata_path=paths.user_metadata_path,\n",
    "    item_metadata_path=paths.item_metadata_path,\n",
    "    save_path=paths.interactions_path,\n",
    "    users_per_partition=1000,\n",
    "    n_sessions_per_user=5,\n",
    "    actions=[\"click\", \"wishlist\", \"cart\", \"purchase\"],\n",
    "    action_weights=[0.8, 0.1, 0.05, 0.05],\n",
    "    similarity_keys=[\"category\", \"style\", \"color\"],\n",
    "    start_date=datetime(2025, 9, 1),\n",
    "    seed=42,\n",
    ")"
   ],
   "outputs": [],
   "execution_count": 3
  },
  {
   "cell_type": "markdown",
   "id": "81243ca27d562bd0",
   "metadata": {},
   "source": "# Load Dataset"
  },
  {
   "cell_type": "code",
   "id": "183728cf06021e85",
   "metadata": {
    "ExecuteTime": {
     "end_time": "2025-09-26T23:12:45.492195Z",
     "start_time": "2025-09-26T23:12:45.436466Z"
    }
   },
   "source": "df = pd.read_parquet(paths.interactions_path)",
   "outputs": [],
   "execution_count": 4
  },
  {
   "cell_type": "code",
   "id": "ebd6c816ac1719ee",
   "metadata": {
    "ExecuteTime": {
     "end_time": "2025-09-26T23:12:45.502532Z",
     "start_time": "2025-09-26T23:12:45.497411Z"
    }
   },
   "source": [
    "df.shape"
   ],
   "outputs": [
    {
     "data": {
      "text/plain": [
       "(161538, 14)"
      ]
     },
     "execution_count": 5,
     "metadata": {},
     "output_type": "execute_result"
    }
   ],
   "execution_count": 5
  },
  {
   "cell_type": "code",
   "id": "6aba150195a33127",
   "metadata": {
    "ExecuteTime": {
     "end_time": "2025-09-26T23:12:45.521630Z",
     "start_time": "2025-09-26T23:12:45.512876Z"
    }
   },
   "source": [
    "df.head()"
   ],
   "outputs": [
    {
     "data": {
      "text/plain": [
       "   user_id  item_id            timestamp action  age gender  \\\n",
       "0        1     3507  2025-09-21 03:01:00  click   46      F   \n",
       "1        1     9867  2025-09-21 03:02:00  click   46      F   \n",
       "2        1     3471  2025-09-02 00:05:00  click   46      F   \n",
       "3        1     6462  2025-09-02 00:09:00  click   46      F   \n",
       "4        1      441  2025-09-19 08:51:00  click   46      F   \n",
       "\n",
       "                                title color style  fit material season sleeve  \\\n",
       "0                     슬림핏 실루엣의 데님 오버롤    레드   스포티  슬림핏       데님     겨울   롱슬리브   \n",
       "1               봄 슬림핏 레드 나일론 롱슬리브 오버롤    레드   스포티  슬림핏      나일론      봄   롱슬리브   \n",
       "2  간절기 시즌, 레트로 무드의 오렌지 퍼 롱슬리브 루즈핏 원피스   오렌지   레트로  루즈핏        퍼    간절기   롱슬리브   \n",
       "3            트렌디한 레트로룩, 슬림핏 원피스 in 여름   오렌지   레트로  슬림핏     스웨이드     여름   숏슬리브   \n",
       "4  봄 시즌, 캐주얼 무드의 와인 스웨이드 롱슬리브 루즈핏 슬랙스    와인   캐주얼  루즈핏     스웨이드      봄   롱슬리브   \n",
       "\n",
       "  category  \n",
       "0      오버롤  \n",
       "1      오버롤  \n",
       "2      원피스  \n",
       "3      원피스  \n",
       "4      슬랙스  "
      ],
      "text/html": [
       "<div>\n",
       "<style scoped>\n",
       "    .dataframe tbody tr th:only-of-type {\n",
       "        vertical-align: middle;\n",
       "    }\n",
       "\n",
       "    .dataframe tbody tr th {\n",
       "        vertical-align: top;\n",
       "    }\n",
       "\n",
       "    .dataframe thead th {\n",
       "        text-align: right;\n",
       "    }\n",
       "</style>\n",
       "<table border=\"1\" class=\"dataframe\">\n",
       "  <thead>\n",
       "    <tr style=\"text-align: right;\">\n",
       "      <th></th>\n",
       "      <th>user_id</th>\n",
       "      <th>item_id</th>\n",
       "      <th>timestamp</th>\n",
       "      <th>action</th>\n",
       "      <th>age</th>\n",
       "      <th>gender</th>\n",
       "      <th>title</th>\n",
       "      <th>color</th>\n",
       "      <th>style</th>\n",
       "      <th>fit</th>\n",
       "      <th>material</th>\n",
       "      <th>season</th>\n",
       "      <th>sleeve</th>\n",
       "      <th>category</th>\n",
       "    </tr>\n",
       "  </thead>\n",
       "  <tbody>\n",
       "    <tr>\n",
       "      <th>0</th>\n",
       "      <td>1</td>\n",
       "      <td>3507</td>\n",
       "      <td>2025-09-21 03:01:00</td>\n",
       "      <td>click</td>\n",
       "      <td>46</td>\n",
       "      <td>F</td>\n",
       "      <td>슬림핏 실루엣의 데님 오버롤</td>\n",
       "      <td>레드</td>\n",
       "      <td>스포티</td>\n",
       "      <td>슬림핏</td>\n",
       "      <td>데님</td>\n",
       "      <td>겨울</td>\n",
       "      <td>롱슬리브</td>\n",
       "      <td>오버롤</td>\n",
       "    </tr>\n",
       "    <tr>\n",
       "      <th>1</th>\n",
       "      <td>1</td>\n",
       "      <td>9867</td>\n",
       "      <td>2025-09-21 03:02:00</td>\n",
       "      <td>click</td>\n",
       "      <td>46</td>\n",
       "      <td>F</td>\n",
       "      <td>봄 슬림핏 레드 나일론 롱슬리브 오버롤</td>\n",
       "      <td>레드</td>\n",
       "      <td>스포티</td>\n",
       "      <td>슬림핏</td>\n",
       "      <td>나일론</td>\n",
       "      <td>봄</td>\n",
       "      <td>롱슬리브</td>\n",
       "      <td>오버롤</td>\n",
       "    </tr>\n",
       "    <tr>\n",
       "      <th>2</th>\n",
       "      <td>1</td>\n",
       "      <td>3471</td>\n",
       "      <td>2025-09-02 00:05:00</td>\n",
       "      <td>click</td>\n",
       "      <td>46</td>\n",
       "      <td>F</td>\n",
       "      <td>간절기 시즌, 레트로 무드의 오렌지 퍼 롱슬리브 루즈핏 원피스</td>\n",
       "      <td>오렌지</td>\n",
       "      <td>레트로</td>\n",
       "      <td>루즈핏</td>\n",
       "      <td>퍼</td>\n",
       "      <td>간절기</td>\n",
       "      <td>롱슬리브</td>\n",
       "      <td>원피스</td>\n",
       "    </tr>\n",
       "    <tr>\n",
       "      <th>3</th>\n",
       "      <td>1</td>\n",
       "      <td>6462</td>\n",
       "      <td>2025-09-02 00:09:00</td>\n",
       "      <td>click</td>\n",
       "      <td>46</td>\n",
       "      <td>F</td>\n",
       "      <td>트렌디한 레트로룩, 슬림핏 원피스 in 여름</td>\n",
       "      <td>오렌지</td>\n",
       "      <td>레트로</td>\n",
       "      <td>슬림핏</td>\n",
       "      <td>스웨이드</td>\n",
       "      <td>여름</td>\n",
       "      <td>숏슬리브</td>\n",
       "      <td>원피스</td>\n",
       "    </tr>\n",
       "    <tr>\n",
       "      <th>4</th>\n",
       "      <td>1</td>\n",
       "      <td>441</td>\n",
       "      <td>2025-09-19 08:51:00</td>\n",
       "      <td>click</td>\n",
       "      <td>46</td>\n",
       "      <td>F</td>\n",
       "      <td>봄 시즌, 캐주얼 무드의 와인 스웨이드 롱슬리브 루즈핏 슬랙스</td>\n",
       "      <td>와인</td>\n",
       "      <td>캐주얼</td>\n",
       "      <td>루즈핏</td>\n",
       "      <td>스웨이드</td>\n",
       "      <td>봄</td>\n",
       "      <td>롱슬리브</td>\n",
       "      <td>슬랙스</td>\n",
       "    </tr>\n",
       "  </tbody>\n",
       "</table>\n",
       "</div>"
      ]
     },
     "execution_count": 6,
     "metadata": {},
     "output_type": "execute_result"
    }
   ],
   "execution_count": 6
  },
  {
   "cell_type": "markdown",
   "id": "7e719ab61d0b1b7a",
   "metadata": {},
   "source": "# EDA"
  },
  {
   "metadata": {},
   "cell_type": "markdown",
   "source": "## Item Frequency",
   "id": "f4eef6722c9d87d6"
  },
  {
   "cell_type": "code",
   "id": "8abaa70df416631e",
   "metadata": {
    "ExecuteTime": {
     "end_time": "2025-09-26T23:12:45.662530Z",
     "start_time": "2025-09-26T23:12:45.552270Z"
    }
   },
   "source": [
    "import seaborn as sns\n",
    "import matplotlib.pyplot as plt\n",
    "\n",
    "plt.figure(figsize=(10, 5), dpi=100)\n",
    "sns.histplot(x=df[\"item_id\"].value_counts(), binwidth=1)\n",
    "plt.title(\"Item Frequency\")\n",
    "plt.xlabel(\"Count\")\n",
    "plt.ylabel(\"Frequency\")\n",
    "plt.show()"
   ],
   "outputs": [
    {
     "data": {
      "text/plain": [
       "<Figure size 1000x500 with 1 Axes>"
      ],
      "image/png": "[encoded data removed]"
     },
     "metadata": {},
     "output_type": "display_data",
     "jetTransient": {
      "display_id": null
     }
    }
   ],
   "execution_count": 7
  }
 ],
 "metadata": {
  "kernelspec": {
   "display_name": "Python 3 (ipykernel)",
   "language": "python",
   "name": "python3"
  },
  "language_info": {
   "codemirror_mode": {
    "name": "ipython",
    "version": 3
   },
   "file_extension": ".py",
   "mimetype": "text/x-python",
   "name": "python",
   "nbconvert_exporter": "python",
   "pygments_lexer": "ipython3",
   "version": "3.12.7"
  }
 },
 "nbformat": 4,
 "nbformat_minor": 5
}
