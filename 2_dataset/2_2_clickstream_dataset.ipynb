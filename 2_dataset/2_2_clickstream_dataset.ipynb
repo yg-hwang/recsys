{
 "cells": [
  {
   "metadata": {
    "ExecuteTime": {
     "end_time": "2025-09-27T00:56:25.943519Z",
     "start_time": "2025-09-27T00:56:25.929525Z"
    }
   },
   "cell_type": "code",
   "source": [
    "import os\n",
    "import sys\n",
    "import pandas as pd\n",
    "from pathlib import Path\n",
    "from datetime import datetime\n",
    "\n",
    "sys.path.append(os.path.abspath(\"..\"))\n",
    "\n",
    "from utils.dataset.config import DatasetPath\n",
    "from utils.dataset.clickstream_generator import generate_clickstream"
   ],
   "id": "ea193a13cc51da11",
   "outputs": [],
   "execution_count": 1
  },
  {
   "metadata": {},
   "cell_type": "markdown",
   "source": [
    "# Dataset Path\n",
    "- `recsys/data/dataset/` 하위 경로 생성"
   ],
   "id": "c2c84c6f9c0f95f6"
  },
  {
   "metadata": {
    "ExecuteTime": {
     "end_time": "2025-09-27T00:56:25.965745Z",
     "start_time": "2025-09-27T00:56:25.960954Z"
    }
   },
   "cell_type": "code",
   "source": [
    "current_dir = os.path.abspath(os.curdir)\n",
    "base_dir = \"/\".join(current_dir.split(\"/\")[:-1])\n",
    "dataset_dir = Path(base_dir).joinpath(\"data/dataset\")\n",
    "\n",
    "paths = DatasetPath(base_dir=dataset_dir, dataset_name=\"fashion\")"
   ],
   "id": "17b467dbb545dbca",
   "outputs": [],
   "execution_count": 2
  },
  {
   "metadata": {},
   "cell_type": "markdown",
   "source": [
    "# Clickstream Dataset\n",
    "- 가상의 클릭 스트림 데이터 생성"
   ],
   "id": "8d77843187ed4cd1"
  },
  {
   "cell_type": "code",
   "id": "ebaac10182282617",
   "metadata": {
    "ExecuteTime": {
     "end_time": "2025-09-27T00:57:16.010801Z",
     "start_time": "2025-09-27T00:56:25.977580Z"
    }
   },
   "source": [
    "generate_clickstream(\n",
    "    user_metadata_path=paths.user_metadata_path,\n",
    "    item_metadata_path=paths.item_metadata_path,\n",
    "    save_path=paths.interactions_path,\n",
    "    users_per_chunk=1000,\n",
    "    n_sessions_per_user=5,\n",
    "    actions=[\"click\", \"wishlist\", \"cart\", \"purchase\"],\n",
    "    action_weights=[0.8, 0.1, 0.05, 0.05],\n",
    "    similarity_keys=[\"category\", \"style\", \"color\"],\n",
    "    start_date=datetime(2025, 9, 1),\n",
    "    seed=42,\n",
    ")"
   ],
   "outputs": [],
   "execution_count": 3
  },
  {
   "cell_type": "markdown",
   "id": "81243ca27d562bd0",
   "metadata": {},
   "source": "# Load Dataset"
  },
  {
   "cell_type": "code",
   "id": "183728cf06021e85",
   "metadata": {
    "ExecuteTime": {
     "end_time": "2025-09-27T00:57:16.064564Z",
     "start_time": "2025-09-27T00:57:16.015657Z"
    }
   },
   "source": "df = pd.read_parquet(paths.interactions_path)",
   "outputs": [],
   "execution_count": 4
  },
  {
   "cell_type": "code",
   "id": "ebd6c816ac1719ee",
   "metadata": {
    "ExecuteTime": {
     "end_time": "2025-09-27T00:57:16.075828Z",
     "start_time": "2025-09-27T00:57:16.071110Z"
    }
   },
   "source": [
    "df.shape"
   ],
   "outputs": [
    {
     "data": {
      "text/plain": [
       "(161993, 14)"
      ]
     },
     "execution_count": 5,
     "metadata": {},
     "output_type": "execute_result"
    }
   ],
   "execution_count": 5
  },
  {
   "cell_type": "code",
   "id": "6aba150195a33127",
   "metadata": {
    "ExecuteTime": {
     "end_time": "2025-09-27T00:57:16.097380Z",
     "start_time": "2025-09-27T00:57:16.087644Z"
    }
   },
   "source": [
    "df.head()"
   ],
   "outputs": [
    {
     "data": {
      "text/plain": [
       "   user_id  item_id            timestamp    action  age gender  \\\n",
       "0        1     2194  2025-09-21 03:01:00     click   46      F   \n",
       "1        1     4723  2025-09-21 03:02:00     click   46      F   \n",
       "2        1     2689  2025-09-02 00:05:00     click   46      F   \n",
       "3        1     7981  2025-09-02 00:09:00     click   46      F   \n",
       "4        1     1770  2025-09-02 00:11:00  wishlist   46      F   \n",
       "\n",
       "                                title color style   fit material season  \\\n",
       "0              블랙 컬러의 스포티 스타일 레이온 청바지    블랙   스포티  레귤러핏      레이온      봄   \n",
       "1                     크롭핏 실루엣의 메쉬 청바지    블랙   스포티   크롭핏       메쉬     가을   \n",
       "2                      빈티지 무드의 레드 티셔츠    레드   빈티지   슬림핏      플리스     여름   \n",
       "3  겨울 시즌, 빈티지 무드의 레드 플리스 숏슬리브 크롭핏 티셔츠    레드   빈티지   크롭핏      플리스     겨울   \n",
       "4               필수템! 빈티지 무드의 간절기용 티셔츠    레드   빈티지   오버핏       린넨    간절기   \n",
       "\n",
       "  sleeve category  \n",
       "0      롱      청바지  \n",
       "1      롱      청바지  \n",
       "2      롱      티셔츠  \n",
       "3   숏슬리브      티셔츠  \n",
       "4   롱슬리브      티셔츠  "
      ],
      "text/html": [
       "<div>\n",
       "<style scoped>\n",
       "    .dataframe tbody tr th:only-of-type {\n",
       "        vertical-align: middle;\n",
       "    }\n",
       "\n",
       "    .dataframe tbody tr th {\n",
       "        vertical-align: top;\n",
       "    }\n",
       "\n",
       "    .dataframe thead th {\n",
       "        text-align: right;\n",
       "    }\n",
       "</style>\n",
       "<table border=\"1\" class=\"dataframe\">\n",
       "  <thead>\n",
       "    <tr style=\"text-align: right;\">\n",
       "      <th></th>\n",
       "      <th>user_id</th>\n",
       "      <th>item_id</th>\n",
       "      <th>timestamp</th>\n",
       "      <th>action</th>\n",
       "      <th>age</th>\n",
       "      <th>gender</th>\n",
       "      <th>title</th>\n",
       "      <th>color</th>\n",
       "      <th>style</th>\n",
       "      <th>fit</th>\n",
       "      <th>material</th>\n",
       "      <th>season</th>\n",
       "      <th>sleeve</th>\n",
       "      <th>category</th>\n",
       "    </tr>\n",
       "  </thead>\n",
       "  <tbody>\n",
       "    <tr>\n",
       "      <th>0</th>\n",
       "      <td>1</td>\n",
       "      <td>2194</td>\n",
       "      <td>2025-09-21 03:01:00</td>\n",
       "      <td>click</td>\n",
       "      <td>46</td>\n",
       "      <td>F</td>\n",
       "      <td>블랙 컬러의 스포티 스타일 레이온 청바지</td>\n",
       "      <td>블랙</td>\n",
       "      <td>스포티</td>\n",
       "      <td>레귤러핏</td>\n",
       "      <td>레이온</td>\n",
       "      <td>봄</td>\n",
       "      <td>롱</td>\n",
       "      <td>청바지</td>\n",
       "    </tr>\n",
       "    <tr>\n",
       "      <th>1</th>\n",
       "      <td>1</td>\n",
       "      <td>4723</td>\n",
       "      <td>2025-09-21 03:02:00</td>\n",
       "      <td>click</td>\n",
       "      <td>46</td>\n",
       "      <td>F</td>\n",
       "      <td>크롭핏 실루엣의 메쉬 청바지</td>\n",
       "      <td>블랙</td>\n",
       "      <td>스포티</td>\n",
       "      <td>크롭핏</td>\n",
       "      <td>메쉬</td>\n",
       "      <td>가을</td>\n",
       "      <td>롱</td>\n",
       "      <td>청바지</td>\n",
       "    </tr>\n",
       "    <tr>\n",
       "      <th>2</th>\n",
       "      <td>1</td>\n",
       "      <td>2689</td>\n",
       "      <td>2025-09-02 00:05:00</td>\n",
       "      <td>click</td>\n",
       "      <td>46</td>\n",
       "      <td>F</td>\n",
       "      <td>빈티지 무드의 레드 티셔츠</td>\n",
       "      <td>레드</td>\n",
       "      <td>빈티지</td>\n",
       "      <td>슬림핏</td>\n",
       "      <td>플리스</td>\n",
       "      <td>여름</td>\n",
       "      <td>롱</td>\n",
       "      <td>티셔츠</td>\n",
       "    </tr>\n",
       "    <tr>\n",
       "      <th>3</th>\n",
       "      <td>1</td>\n",
       "      <td>7981</td>\n",
       "      <td>2025-09-02 00:09:00</td>\n",
       "      <td>click</td>\n",
       "      <td>46</td>\n",
       "      <td>F</td>\n",
       "      <td>겨울 시즌, 빈티지 무드의 레드 플리스 숏슬리브 크롭핏 티셔츠</td>\n",
       "      <td>레드</td>\n",
       "      <td>빈티지</td>\n",
       "      <td>크롭핏</td>\n",
       "      <td>플리스</td>\n",
       "      <td>겨울</td>\n",
       "      <td>숏슬리브</td>\n",
       "      <td>티셔츠</td>\n",
       "    </tr>\n",
       "    <tr>\n",
       "      <th>4</th>\n",
       "      <td>1</td>\n",
       "      <td>1770</td>\n",
       "      <td>2025-09-02 00:11:00</td>\n",
       "      <td>wishlist</td>\n",
       "      <td>46</td>\n",
       "      <td>F</td>\n",
       "      <td>필수템! 빈티지 무드의 간절기용 티셔츠</td>\n",
       "      <td>레드</td>\n",
       "      <td>빈티지</td>\n",
       "      <td>오버핏</td>\n",
       "      <td>린넨</td>\n",
       "      <td>간절기</td>\n",
       "      <td>롱슬리브</td>\n",
       "      <td>티셔츠</td>\n",
       "    </tr>\n",
       "  </tbody>\n",
       "</table>\n",
       "</div>"
      ]
     },
     "execution_count": 6,
     "metadata": {},
     "output_type": "execute_result"
    }
   ],
   "execution_count": 6
  },
  {
   "cell_type": "markdown",
   "id": "7e719ab61d0b1b7a",
   "metadata": {},
   "source": "# EDA"
  },
  {
   "metadata": {},
   "cell_type": "markdown",
   "source": "## Item Frequency",
   "id": "f4eef6722c9d87d6"
  },
  {
   "cell_type": "code",
   "id": "8abaa70df416631e",
   "metadata": {
    "ExecuteTime": {
     "end_time": "2025-09-27T00:57:16.278070Z",
     "start_time": "2025-09-27T00:57:16.146963Z"
    }
   },
   "source": [
    "import seaborn as sns\n",
    "import matplotlib.pyplot as plt\n",
    "\n",
    "plt.figure(figsize=(10, 5), dpi=100)\n",
    "sns.histplot(x=df[\"item_id\"].value_counts(), binwidth=1)\n",
    "plt.title(\"Item Frequency\")\n",
    "plt.xlabel(\"Count\")\n",
    "plt.ylabel(\"Frequency\")\n",
    "plt.show()"
   ],
   "outputs": [
    {
     "data": {
      "text/plain": [
       "<Figure size 1000x500 with 1 Axes>"
      ],
      "image/png": "[encoded data removed]"
     },
     "metadata": {},
     "output_type": "display_data",
     "jetTransient": {
      "display_id": null
     }
    }
   ],
   "execution_count": 7
  }
 ],
 "metadata": {
  "kernelspec": {
   "display_name": "Python 3 (ipykernel)",
   "language": "python",
   "name": "python3"
  },
  "language_info": {
   "codemirror_mode": {
    "name": "ipython",
    "version": 3
   },
   "file_extension": ".py",
   "mimetype": "text/x-python",
   "name": "python",
   "nbconvert_exporter": "python",
   "pygments_lexer": "ipython3",
   "version": "3.12.7"
  }
 },
 "nbformat": 4,
 "nbformat_minor": 5
}
