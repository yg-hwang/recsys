{
 "cells": [
  {
   "cell_type": "code",
   "id": "8ff7b3847589a2e7",
   "metadata": {
    "editable": true,
    "slideshow": {
     "slide_type": ""
    },
    "tags": [],
    "ExecuteTime": {
     "end_time": "2025-09-26T14:19:53.133531Z",
     "start_time": "2025-09-26T14:19:53.128810Z"
    }
   },
   "source": [
    "import os\n",
    "import sys\n",
    "import pandas as pd\n",
    "from pathlib import Path\n",
    "from datetime import datetime\n",
    "\n",
    "sys.path.append(os.path.abspath(\"..\"))\n",
    "\n",
    "from common.dataset.config import DatasetPath\n",
    "from common.dataset.clickstream_generator import generate_clickstream"
   ],
   "outputs": [],
   "execution_count": 1
  },
  {
   "cell_type": "markdown",
   "id": "35c50966eca8ca0",
   "metadata": {},
   "source": "# Clickstream Dataset"
  },
  {
   "metadata": {
    "ExecuteTime": {
     "end_time": "2025-09-14T13:30:18.817566Z",
     "start_time": "2025-09-14T13:30:18.813990Z"
    }
   },
   "cell_type": "code",
   "source": [
    "current_dir = os.path.abspath(os.curdir)\n",
    "base_dir = \"/\".join(current_dir.split(\"/\")[:-1])\n",
    "dataset_dir = Path(base_dir).joinpath(\"data/dataset\")\n",
    "\n",
    "paths = DatasetPath(base_dir=dataset_dir, dataset_name=\"fashion\")\n",
    "print(paths.base_path)"
   ],
   "id": "17b467dbb545dbca",
   "outputs": [
    {
     "name": "stdout",
     "output_type": "stream",
     "text": [
      "/Users/hwangyungwan/Library/Mobile Documents/com~apple~CloudDocs/Documents/workspace/lecture/rec_sys/workspace/dataset/fashion\n"
     ]
    }
   ],
   "execution_count": 2
  },
  {
   "cell_type": "code",
   "id": "ebaac10182282617",
   "metadata": {
    "ExecuteTime": {
     "end_time": "2025-09-14T13:35:16.596349Z",
     "start_time": "2025-09-14T13:34:28.989505Z"
    }
   },
   "source": [
    "generate_clickstream(\n",
    "    user_metadata_path=paths.user_metadata_path,\n",
    "    item_metadata_path=paths.item_metadata_path,\n",
    "    save_path=paths.interactions_path,\n",
    "    users_per_partition=1000,\n",
    "    n_sessions_per_user=5,\n",
    "    actions=[\"click\", \"wishlist\", \"cart\", \"purchase\"],\n",
    "    action_weights=[0.8, 0.1, 0.05, 0.05],\n",
    "    similarity_keys=[\"category\", \"style\", \"color\"],\n",
    "    start_date=datetime(2025, 9, 1),\n",
    "    seed=42,\n",
    ")"
   ],
   "outputs": [],
   "execution_count": 8
  },
  {
   "cell_type": "markdown",
   "id": "81243ca27d562bd0",
   "metadata": {},
   "source": "# Load Dataset"
  },
  {
   "cell_type": "code",
   "id": "183728cf06021e85",
   "metadata": {
    "ExecuteTime": {
     "end_time": "2025-09-14T13:35:16.644780Z",
     "start_time": "2025-09-14T13:35:16.599617Z"
    }
   },
   "source": "df = pd.read_parquet(paths.interactions_path)",
   "outputs": [],
   "execution_count": 9
  },
  {
   "cell_type": "code",
   "id": "ebd6c816ac1719ee",
   "metadata": {
    "ExecuteTime": {
     "end_time": "2025-09-14T13:35:16.652800Z",
     "start_time": "2025-09-14T13:35:16.650281Z"
    }
   },
   "source": [
    "df.shape"
   ],
   "outputs": [
    {
     "data": {
      "text/plain": [
       "(161346, 14)"
      ]
     },
     "execution_count": 10,
     "metadata": {},
     "output_type": "execute_result"
    }
   ],
   "execution_count": 10
  },
  {
   "cell_type": "code",
   "id": "6aba150195a33127",
   "metadata": {
    "ExecuteTime": {
     "end_time": "2025-09-14T13:35:16.669139Z",
     "start_time": "2025-09-14T13:35:16.663668Z"
    }
   },
   "source": [
    "df.head()"
   ],
   "outputs": [
    {
     "data": {
      "text/plain": [
       "   user_id  item_id            timestamp    action  age gender  \\\n",
       "0        1     3092  2025-09-21 03:01:00     click   46      F   \n",
       "1        1     8879  2025-09-21 03:02:00     click   46      F   \n",
       "2        1     1880  2025-09-21 03:03:00     click   46      F   \n",
       "3        1     6154  2025-09-21 03:13:00     click   46      F   \n",
       "4        1     8642  2025-09-21 03:13:00  wishlist   46      F   \n",
       "\n",
       "                        title color style    fit material season sleeve  \\\n",
       "0  트렌디한 스포티룩, 세미오버핏 레깅스 in 여름  아이보리   스포티  세미오버핏        울     여름     7부   \n",
       "1    트렌디한 스포티룩, 슬림핏 레깅스 in 여름  아이보리   스포티    슬림핏       메쉬     여름   롱슬리브   \n",
       "2       필수템! 스포티 무드의 간절기용 레깅스  아이보리   스포티  세미오버핏       데님    간절기   숏슬리브   \n",
       "3            여름 감성 슬림핏 폴리 레깅스  아이보리   스포티    슬림핏       폴리     여름   롱슬리브   \n",
       "4   트렌디한 스포티룩, 레귤러핏 레깅스 in 겨울  아이보리   스포티   레귤러핏       코튼     겨울     7부   \n",
       "\n",
       "  category  \n",
       "0      레깅스  \n",
       "1      레깅스  \n",
       "2      레깅스  \n",
       "3      레깅스  \n",
       "4      레깅스  "
      ],
      "text/html": [
       "<div>\n",
       "<style scoped>\n",
       "    .dataframe tbody tr th:only-of-type {\n",
       "        vertical-align: middle;\n",
       "    }\n",
       "\n",
       "    .dataframe tbody tr th {\n",
       "        vertical-align: top;\n",
       "    }\n",
       "\n",
       "    .dataframe thead th {\n",
       "        text-align: right;\n",
       "    }\n",
       "</style>\n",
       "<table border=\"1\" class=\"dataframe\">\n",
       "  <thead>\n",
       "    <tr style=\"text-align: right;\">\n",
       "      <th></th>\n",
       "      <th>user_id</th>\n",
       "      <th>item_id</th>\n",
       "      <th>timestamp</th>\n",
       "      <th>action</th>\n",
       "      <th>age</th>\n",
       "      <th>gender</th>\n",
       "      <th>title</th>\n",
       "      <th>color</th>\n",
       "      <th>style</th>\n",
       "      <th>fit</th>\n",
       "      <th>material</th>\n",
       "      <th>season</th>\n",
       "      <th>sleeve</th>\n",
       "      <th>category</th>\n",
       "    </tr>\n",
       "  </thead>\n",
       "  <tbody>\n",
       "    <tr>\n",
       "      <th>0</th>\n",
       "      <td>1</td>\n",
       "      <td>3092</td>\n",
       "      <td>2025-09-21 03:01:00</td>\n",
       "      <td>click</td>\n",
       "      <td>46</td>\n",
       "      <td>F</td>\n",
       "      <td>트렌디한 스포티룩, 세미오버핏 레깅스 in 여름</td>\n",
       "      <td>아이보리</td>\n",
       "      <td>스포티</td>\n",
       "      <td>세미오버핏</td>\n",
       "      <td>울</td>\n",
       "      <td>여름</td>\n",
       "      <td>7부</td>\n",
       "      <td>레깅스</td>\n",
       "    </tr>\n",
       "    <tr>\n",
       "      <th>1</th>\n",
       "      <td>1</td>\n",
       "      <td>8879</td>\n",
       "      <td>2025-09-21 03:02:00</td>\n",
       "      <td>click</td>\n",
       "      <td>46</td>\n",
       "      <td>F</td>\n",
       "      <td>트렌디한 스포티룩, 슬림핏 레깅스 in 여름</td>\n",
       "      <td>아이보리</td>\n",
       "      <td>스포티</td>\n",
       "      <td>슬림핏</td>\n",
       "      <td>메쉬</td>\n",
       "      <td>여름</td>\n",
       "      <td>롱슬리브</td>\n",
       "      <td>레깅스</td>\n",
       "    </tr>\n",
       "    <tr>\n",
       "      <th>2</th>\n",
       "      <td>1</td>\n",
       "      <td>1880</td>\n",
       "      <td>2025-09-21 03:03:00</td>\n",
       "      <td>click</td>\n",
       "      <td>46</td>\n",
       "      <td>F</td>\n",
       "      <td>필수템! 스포티 무드의 간절기용 레깅스</td>\n",
       "      <td>아이보리</td>\n",
       "      <td>스포티</td>\n",
       "      <td>세미오버핏</td>\n",
       "      <td>데님</td>\n",
       "      <td>간절기</td>\n",
       "      <td>숏슬리브</td>\n",
       "      <td>레깅스</td>\n",
       "    </tr>\n",
       "    <tr>\n",
       "      <th>3</th>\n",
       "      <td>1</td>\n",
       "      <td>6154</td>\n",
       "      <td>2025-09-21 03:13:00</td>\n",
       "      <td>click</td>\n",
       "      <td>46</td>\n",
       "      <td>F</td>\n",
       "      <td>여름 감성 슬림핏 폴리 레깅스</td>\n",
       "      <td>아이보리</td>\n",
       "      <td>스포티</td>\n",
       "      <td>슬림핏</td>\n",
       "      <td>폴리</td>\n",
       "      <td>여름</td>\n",
       "      <td>롱슬리브</td>\n",
       "      <td>레깅스</td>\n",
       "    </tr>\n",
       "    <tr>\n",
       "      <th>4</th>\n",
       "      <td>1</td>\n",
       "      <td>8642</td>\n",
       "      <td>2025-09-21 03:13:00</td>\n",
       "      <td>wishlist</td>\n",
       "      <td>46</td>\n",
       "      <td>F</td>\n",
       "      <td>트렌디한 스포티룩, 레귤러핏 레깅스 in 겨울</td>\n",
       "      <td>아이보리</td>\n",
       "      <td>스포티</td>\n",
       "      <td>레귤러핏</td>\n",
       "      <td>코튼</td>\n",
       "      <td>겨울</td>\n",
       "      <td>7부</td>\n",
       "      <td>레깅스</td>\n",
       "    </tr>\n",
       "  </tbody>\n",
       "</table>\n",
       "</div>"
      ]
     },
     "execution_count": 11,
     "metadata": {},
     "output_type": "execute_result"
    }
   ],
   "execution_count": 11
  },
  {
   "cell_type": "markdown",
   "id": "7e719ab61d0b1b7a",
   "metadata": {},
   "source": "# EDA"
  },
  {
   "metadata": {},
   "cell_type": "markdown",
   "source": "## Item Frequency",
   "id": "f4eef6722c9d87d6"
  },
  {
   "cell_type": "code",
   "id": "8abaa70df416631e",
   "metadata": {
    "ExecuteTime": {
     "end_time": "2025-09-14T13:31:08.948157Z",
     "start_time": "2025-09-14T13:31:08.856840Z"
    }
   },
   "source": [
    "import seaborn as sns\n",
    "import matplotlib.pyplot as plt\n",
    "\n",
    "plt.figure(figsize=(10, 5), dpi=100)\n",
    "sns.histplot(x=df[\"item_id\"].value_counts(), binwidth=1)\n",
    "plt.title(\"Item Frequency\")\n",
    "plt.xlabel(\"Count\")\n",
    "plt.ylabel(\"Frequency\")\n",
    "plt.show()"
   ],
   "outputs": [
    {
     "data": {
      "text/plain": [
       "<Figure size 1000x500 with 1 Axes>"
      ],
      "image/png": "[encoded data removed]"
     },
     "metadata": {},
     "output_type": "display_data",
     "jetTransient": {
      "display_id": null
     }
    }
   ],
   "execution_count": 7
  }
 ],
 "metadata": {
  "kernelspec": {
   "display_name": "Python 3 (ipykernel)",
   "language": "python",
   "name": "python3"
  },
  "language_info": {
   "codemirror_mode": {
    "name": "ipython",
    "version": 3
   },
   "file_extension": ".py",
   "mimetype": "text/x-python",
   "name": "python",
   "nbconvert_exporter": "python",
   "pygments_lexer": "ipython3",
   "version": "3.12.7"
  }
 },
 "nbformat": 4,
 "nbformat_minor": 5
}
