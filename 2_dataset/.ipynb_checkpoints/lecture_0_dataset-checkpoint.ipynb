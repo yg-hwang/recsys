{
 "cells": [
  {
   "cell_type": "markdown",
   "id": "36ee817cbd9fd814",
   "metadata": {},
   "source": [
    "# Import Library"
   ]
  },
  {
   "cell_type": "code",
   "execution_count": 1,
   "id": "8ff7b3847589a2e7",
   "metadata": {
    "ExecuteTime": {
     "end_time": "2025-09-13T13:37:14.093315Z",
     "start_time": "2025-09-13T13:37:13.616987Z"
    },
    "editable": true,
    "slideshow": {
     "slide_type": ""
    },
    "tags": []
   },
   "outputs": [],
   "source": [
    "import faiss\n",
    "import numpy as np\n",
    "import pandas as pd\n",
    "from pathlib import Path\n",
    "from datetime import datetime\n",
    "\n",
    "from utils.domain import fashion\n",
    "from utils.item_generator import generate_items\n",
    "from utils.clickstream_generator import generate_clickstream_from_metadata"
   ]
  },
  {
   "cell_type": "markdown",
   "id": "773150e321372141",
   "metadata": {},
   "source": [
    "# Dataset"
   ]
  },
  {
   "cell_type": "markdown",
   "id": "1fed8b712a597540",
   "metadata": {},
   "source": [
    "## Item Metadata"
   ]
  },
  {
   "cell_type": "code",
   "execution_count": 6,
   "id": "f1bf03527122bc19",
   "metadata": {
    "ExecuteTime": {
     "end_time": "2025-09-13T13:37:15.887464Z",
     "start_time": "2025-09-13T13:37:15.808632Z"
    }
   },
   "outputs": [],
   "source": [
    "output_path = Path(f\"/tmp/recsys/dataset/fashion/\").resolve()\n",
    "output_path.mkdir(parents=True, exist_ok=True)\n",
    "item_metadata_path = output_path.joinpath(\"item_metadata.parquet\")\n",
    "\n",
    "df = generate_items(fashion.Fashion, num_items=10000)\n",
    "df.to_parquet(item_metadata_path)"
   ]
  },
  {
   "cell_type": "markdown",
   "id": "7d7486f09b47812d",
   "metadata": {},
   "source": [
    "## Text Vector"
   ]
  },
  {
   "cell_type": "markdown",
   "id": "5bdfceb85c3c531f",
   "metadata": {},
   "source": [
    "### SentenceTransformer"
   ]
  },
  {
   "cell_type": "code",
   "execution_count": null,
   "id": "a2abe1d5623739f7",
   "metadata": {
    "ExecuteTime": {
     "end_time": "2025-09-13T13:17:23.835306Z",
     "start_time": "2025-09-13T13:17:10.690549Z"
    }
   },
   "outputs": [],
   "source": [
    "from sentence_transformers import SentenceTransformer\n",
    "\n",
    "model = SentenceTransformer(\"all-MiniLM-L6-v2\")\n",
    "embeddings = model.encode(df[\"title\"].tolist(), normalize_embeddings=True)\n",
    "embeddings = np.array(embeddings).astype(\"float32\")\n",
    "df[\"text_vector\"] = embeddings.tolist()\n",
    "\n",
    "dim = embeddings.shape[1]\n",
    "index = faiss.IndexFlatIP(dim)\n",
    "index.add(embeddings)\n",
    "\n",
    "\n",
    "def find_similar_products(query_text: str, top_k: int = 5):\n",
    "    query_vec = model.encode([query_text], normalize_embeddings=True).astype(\"float32\")\n",
    "    scores, indices = index.search(query_vec, top_k)\n",
    "\n",
    "    print(f\"\\n[🔍 입력 상품명] {query_text}\\n\")\n",
    "    print(\"[📌 유사한 상품]\")\n",
    "    for rank, idx in enumerate(indices[0]):\n",
    "        sim_score = scores[0][rank]\n",
    "        print(f\"{rank+1}. {df.iloc[idx]['title']} (score: {sim_score:.4f})\")\n",
    "\n",
    "\n",
    "find_similar_products(\"화이트 반팔 티셔츠\")\n",
    "find_similar_products(\"여름 린넨 원피스\")"
   ]
  },
  {
   "cell_type": "markdown",
   "id": "6766184315c08b42",
   "metadata": {},
   "source": [
    "### e5-base"
   ]
  },
  {
   "cell_type": "code",
   "execution_count": null,
   "id": "4f441bdf119bea7f",
   "metadata": {
    "ExecuteTime": {
     "end_time": "2025-09-13T13:18:38.606461Z",
     "start_time": "2025-09-13T13:18:01.354463Z"
    }
   },
   "outputs": [],
   "source": [
    "# 요약: 한국어 상품명 임베딩 품질을 높이기 위해 다국어 검색 특화 모델(E5)을 사용하고,\n",
    "# 인덱스 문서엔 \"passage: \", 질의엔 \"query: \" 프리픽스를 적용합니다.\n",
    "from sentence_transformers import SentenceTransformer\n",
    "import faiss\n",
    "\n",
    "# 한국어 포함 멀티링궐 성능이 우수한 검색 특화 임베딩 모델\n",
    "# 참고: intfloat/multilingual-e5-base (문서: \"passage: \", 질의: \"query: \")\n",
    "model = SentenceTransformer(\"intfloat/multilingual-e5-base\")\n",
    "\n",
    "# E5 모델 가이드에 따라 passage 프리픽스를 붙여 인덱싱\n",
    "corpus_texts = [\"passage: \" + t for t in df[\"title\"].tolist()]\n",
    "embeddings = model.encode(corpus_texts, normalize_embeddings=True)\n",
    "embeddings = np.array(embeddings).astype(\"float32\")\n",
    "df[\"text_vector\"] = embeddings.tolist()\n",
    "\n",
    "dim = embeddings.shape[1]\n",
    "index = faiss.IndexFlatIP(dim)\n",
    "index.add(embeddings)\n",
    "\n",
    "\n",
    "def find_similar_products(query_text: str, top_k: int = 5):\n",
    "    # E5 모델 가이드에 따라 query 프리픽스를 사용\n",
    "    query_vec = model.encode(\n",
    "        [\"query: \" + query_text], normalize_embeddings=True\n",
    "    ).astype(\"float32\")\n",
    "    scores, indices = index.search(query_vec, top_k)\n",
    "\n",
    "    print(f\"\\n[🔍 입력 상품명] {query_text}\\n\")\n",
    "    print(\"[📌 유사한 상품]\")\n",
    "    for rank, idx in enumerate(indices[0]):\n",
    "        sim_score = scores[0][rank]\n",
    "        print(f\"{rank + 1}. {df.iloc[idx]['title']} (score: {sim_score:.4f})\")\n",
    "\n",
    "\n",
    "find_similar_products(\"화이트 반팔 티셔츠\")\n",
    "find_similar_products(\"여름 린넬 원피스\")"
   ]
  },
  {
   "cell_type": "markdown",
   "id": "be2fba845e896140",
   "metadata": {},
   "source": [
    "## Image Vector"
   ]
  },
  {
   "cell_type": "code",
   "execution_count": null,
   "id": "a2e4f25862080c6c",
   "metadata": {},
   "outputs": [],
   "source": []
  },
  {
   "cell_type": "markdown",
   "id": "35c50966eca8ca0",
   "metadata": {},
   "source": [
    "## Clickstream Dataset"
   ]
  },
  {
   "cell_type": "code",
   "execution_count": null,
   "id": "ebaac10182282617",
   "metadata": {
    "ExecuteTime": {
     "end_time": "2025-09-13T10:15:46.752613Z",
     "start_time": "2025-09-13T10:15:06.951883Z"
    }
   },
   "outputs": [],
   "source": [
    "generate_clickstream_from_metadata(\n",
    "    item_metadata_path=item_metadata_path,\n",
    "    save_path=output_path,\n",
    "    total_users=10000,\n",
    "    users_per_partition=1000,\n",
    "    n_sessions_per_user=5,\n",
    "    actions=[\"click\", \"wishlist\", \"cart\", \"purchase\"],\n",
    "    action_weights=[0.8, 0.1, 0.05, 0.05],\n",
    "    similarity_keys=[\"category\", \"style\", \"color\"],\n",
    "    start_date=datetime(2025, 9, 1),\n",
    "    seed=42,\n",
    ")"
   ]
  },
  {
   "cell_type": "markdown",
   "id": "81243ca27d562bd0",
   "metadata": {},
   "source": [
    "# Load Dataset"
   ]
  },
  {
   "cell_type": "code",
   "execution_count": null,
   "id": "183728cf06021e85",
   "metadata": {
    "ExecuteTime": {
     "end_time": "2025-09-13T10:15:56.512212Z",
     "start_time": "2025-09-13T10:15:56.450935Z"
    }
   },
   "outputs": [],
   "source": [
    "df = pd.read_parquet(output_path.joinpath(\"clickstream\"))"
   ]
  },
  {
   "cell_type": "code",
   "execution_count": null,
   "id": "ebd6c816ac1719ee",
   "metadata": {
    "ExecuteTime": {
     "end_time": "2025-09-13T10:15:57.829811Z",
     "start_time": "2025-09-13T10:15:57.822545Z"
    }
   },
   "outputs": [],
   "source": [
    "df.shape"
   ]
  },
  {
   "cell_type": "code",
   "execution_count": null,
   "id": "6aba150195a33127",
   "metadata": {
    "ExecuteTime": {
     "end_time": "2025-09-13T10:15:58.798296Z",
     "start_time": "2025-09-13T10:15:58.784393Z"
    }
   },
   "outputs": [],
   "source": [
    "df.head()"
   ]
  },
  {
   "cell_type": "markdown",
   "id": "7e719ab61d0b1b7a",
   "metadata": {},
   "source": [
    "# Item Frequency"
   ]
  },
  {
   "cell_type": "code",
   "execution_count": null,
   "id": "8abaa70df416631e",
   "metadata": {
    "ExecuteTime": {
     "end_time": "2025-09-13T10:26:30.232012Z",
     "start_time": "2025-09-13T10:26:30.132188Z"
    }
   },
   "outputs": [],
   "source": [
    "import seaborn as sns\n",
    "import matplotlib.pyplot as plt\n",
    "\n",
    "plt.figure(figsize=(10, 5), dpi=100)\n",
    "sns.histplot(x=df[\"item_id\"].value_counts(), binwidth=1)\n",
    "plt.title(\"Item Frequency\")\n",
    "plt.xlabel(\"Count\")\n",
    "plt.ylabel(\"Frequency\")\n",
    "plt.show()"
   ]
  },
  {
   "cell_type": "markdown",
   "id": "f62d79988070b22d",
   "metadata": {},
   "source": [
    "# User Frequency"
   ]
  },
  {
   "cell_type": "code",
   "execution_count": null,
   "id": "7fa73e2408896b1e",
   "metadata": {
    "ExecuteTime": {
     "end_time": "2025-09-13T10:26:37.634756Z",
     "start_time": "2025-09-13T10:26:37.625748Z"
    }
   },
   "outputs": [],
   "source": [
    "df.head()"
   ]
  }
 ],
 "metadata": {
  "kernelspec": {
   "display_name": "Python 3 (ipykernel)",
   "language": "python",
   "name": "python3"
  },
  "language_info": {
   "codemirror_mode": {
    "name": "ipython",
    "version": 3
   },
   "file_extension": ".py",
   "mimetype": "text/x-python",
   "name": "python",
   "nbconvert_exporter": "python",
   "pygments_lexer": "ipython3",
   "version": "3.12.7"
  }
 },
 "nbformat": 4,
 "nbformat_minor": 5
}
